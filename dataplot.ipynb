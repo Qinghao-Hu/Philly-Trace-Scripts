{
 "cells": [
  {
   "cell_type": "code",
   "execution_count": null,
   "metadata": {},
   "outputs": [],
   "source": [
    "import os\n",
    "import ciso8601\n",
    "import pandas as pd\n",
    "import matplotlib.pyplot as plt\n",
    "from datetime import datetime"
   ]
  },
  {
   "cell_type": "code",
   "execution_count": null,
   "metadata": {},
   "outputs": [],
   "source": [
    "LOGDIR = './data'\n",
    "gpu_ls = pd.read_csv(LOGDIR + \"/cluster_machine_list\")\n",
    "gpu_new = pd.read_csv(LOGDIR + \"/revised_machine_list.csv\")"
   ]
  },
  {
   "cell_type": "code",
   "execution_count": null,
   "metadata": {},
   "outputs": [],
   "source": [
    "machine_12g = gpu_ls[gpu_ls[' single GPU mem'] == ' 12GB'][' single GPU mem'].count()  #Titan X?\n",
    "machine_24g = gpu_ls[gpu_ls[' single GPU mem'] == ' 24GB'][' single GPU mem'].count()  #P40\n",
    "ind = [0.3, 0.7]\n",
    "\n",
    "fig, ax = plt.subplots()\n",
    "fig1 = ax.bar(ind, [machine_12g, machine_24g], width = 0.12, align='center')\n",
    "plt.xticks(ind, ('2 GPUs(12GB)', '8 GPUs(24GB)'))\n",
    "plt.xlim(0.1, 0.9)\n",
    "plt.ylim(0, 400)\n",
    "plt.grid(alpha=.3, linestyle='--')\n",
    "plt.title('Cluster Machine (original)')\n",
    "\n",
    "def autolabel(rects):\n",
    "    \"\"\"Attach a text label above each bar in *rects*, displaying its height.\"\"\"\n",
    "    for rect in rects:\n",
    "        height = rect.get_height()\n",
    "        ax.annotate('{}'.format(height),\n",
    "                    xy=(rect.get_x() + rect.get_width() / 2, height),\n",
    "                    xytext=(0, 3),  # 3 points vertical offset\n",
    "                    textcoords=\"offset points\",\n",
    "                    ha='center', va='bottom')\n",
    "autolabel(fig1)\n",
    "# plt.savefig('Cluster Machine (original).png')"
   ]
  },
  {
   "cell_type": "markdown",
   "metadata": {},
   "source": [
    "### Revised Machine List Analyse"
   ]
  },
  {
   "cell_type": "code",
   "execution_count": null,
   "metadata": {},
   "outputs": [],
   "source": [
    "print('Total Machine Numbers: ', gpu_ls['machineId'].count())\n",
    "print('Total GPU Numbers: ', gpu_ls[' number of GPUs'].sum())\n",
    "print('2 GPU Machine(12GB) Numbers: ', machine_12g)\n",
    "print('8 GPU Machine(24GB) Numbers: ', machine_24g)"
   ]
  },
  {
   "cell_type": "code",
   "execution_count": null,
   "metadata": {},
   "outputs": [],
   "source": [
    "\"\"\"\n",
    "New Machine List Analyse\n",
    "\n",
    "\"\"\"\n",
    "types = gpu_new['number of GPUs'].unique()\n",
    "nums = []\n",
    "for t in types:\n",
    "    num = gpu_new[gpu_new['number of GPUs'] == t]['machineId'].count()  \n",
    "    nums.append(num)"
   ]
  },
  {
   "cell_type": "code",
   "execution_count": null,
   "metadata": {},
   "outputs": [],
   "source": [
    "fig, ax = plt.subplots()\n",
    "fig2 = plt.bar(types[:2], nums[:2], width = 1, align='center')\n",
    "plt.xticks(types[:2], ('8 GPUs', '4 GPUs'))\n",
    "plt.xlim(2, 10)\n",
    "plt.ylim(0,300)\n",
    "plt.grid(alpha=.3, linestyle='--')\n",
    "plt.title('Cluster Machine (revised) 1')\n",
    "\n",
    "def autolabel(rects):\n",
    "    \"\"\"Attach a text label above each bar in *rects*, displaying its height.\"\"\"\n",
    "    for rect in rects:\n",
    "        height = rect.get_height()\n",
    "        ax.annotate('{}'.format(height),\n",
    "                    xy=(rect.get_x() + rect.get_width() / 2, height),\n",
    "                    xytext=(0, 3),  # 3 points vertical offset\n",
    "                    textcoords=\"offset points\",\n",
    "                    ha='center', va='bottom')\n",
    "autolabel(fig2)\n",
    "# plt.savefig('Cluster Machine (revised) 1.png')"
   ]
  },
  {
   "cell_type": "code",
   "execution_count": null,
   "metadata": {},
   "outputs": [],
   "source": [
    "fig, ax = plt.subplots()\n",
    "fig2 = plt.bar(types[2:], nums[2:], width = 0.5, align='center')\n",
    "plt.xticks(types[2:], ('3 GPUs', '0 GPUs', '2 GPUs'))\n",
    "plt.xlim(-1, 4)\n",
    "plt.ylim(0,18)\n",
    "plt.grid(alpha=.3, linestyle='--')\n",
    "plt.title('Cluster Machine (revised) 2')\n",
    "\n",
    "def autolabel(rects):\n",
    "    \"\"\"Attach a text label above each bar in *rects*, displaying its height.\"\"\"\n",
    "    for rect in rects:\n",
    "        height = rect.get_height()\n",
    "        ax.annotate('{}'.format(height),\n",
    "                    xy=(rect.get_x() + rect.get_width() / 2, height),\n",
    "                    xytext=(0, 3),  # 3 points vertical offset\n",
    "                    textcoords=\"offset points\",\n",
    "                    ha='center', va='bottom')\n",
    "autolabel(fig2)\n",
    "# plt.savefig('Cluster Machine (revised) 2.png')"
   ]
  },
  {
   "cell_type": "code",
   "execution_count": null,
   "metadata": {},
   "outputs": [],
   "source": [
    "print('Total Machine Numbers: ', gpu_new['machineId'].count())\n",
    "print('Total GPU Numbers: ', gpu_new['number of GPUs'].sum())\n",
    "print('8 GPU Machine Numbers: ', nums[0])\n",
    "print('4 GPU Machine Numbers: ', nums[1])\n",
    "print('3 GPU Machine Numbers: ', nums[2])\n",
    "print('2 GPU Machine Numbers: ', nums[4])\n",
    "print('0 GPU Machine Numbers: ', nums[3])"
   ]
  },
  {
   "cell_type": "markdown",
   "metadata": {},
   "source": [
    "### Time Sequence Plot"
   ]
  },
  {
   "cell_type": "code",
   "execution_count": null,
   "metadata": {},
   "outputs": [],
   "source": [
    "seq = pd.read_csv('timeseq.csv')"
   ]
  },
  {
   "cell_type": "code",
   "execution_count": null,
   "metadata": {},
   "outputs": [],
   "source": [
    "fig, ax = plt.subplots(figsize=(16, 9))\n",
    "x = [ciso8601.parse_datetime(d) for d in seq['Timestamp']]\n",
    "g = ax.plot(x, seq['Running_GPUJob_Num'])\n",
    "ax.plot(x, seq['Pending_GPUJob_Num'])\n",
    "ax.legend([\"Running_GPUJob_Num\",\"Pending_GPUJob_Num\"],prop = {'size':15})\n",
    "plt.title('Running & Pending GPUJob Num')\n",
    "# plt.savefig('Running & Pending GPUJob Num.png')"
   ]
  },
  {
   "cell_type": "code",
   "execution_count": null,
   "metadata": {},
   "outputs": [],
   "source": [
    "fig, ax = plt.subplots(figsize=(16, 9))\n",
    "x = [ciso8601.parse_datetime(d) for d in seq['Timestamp']]\n",
    "g = ax.plot(x, seq['Running_GPU_Num'])\n",
    "ax.plot(x, seq['Pending_GPU_Num'])\n",
    "ax.plot(x, seq['Idle_GPU_Num'],'--')\n",
    "ax.legend([\"Running_GPU_Num\",\"Pending_GPU_Num\", \"Idle_GPU_Num\"], prop = {'size':15}, loc='upper left')\n",
    "plt.title('Running & Pending GPU Num')\n",
    "# plt.savefig('Running & Pending GPU Num.png')"
   ]
  },
  {
   "cell_type": "code",
   "execution_count": null,
   "metadata": {},
   "outputs": [],
   "source": [
    "fig, ax = plt.subplots(figsize=(16, 9))\n",
    "x = [ciso8601.parse_datetime(d) for d in seq['Timestamp']]\n",
    "ax.plot(x, seq['Pending_Morethan_8GPUJob_Num'])\n",
    "ax.plot(x, seq['Pending_8GPUJob_Num'], )\n",
    "ax.plot(x, seq['Pending_4GPUJob_Num'],)\n",
    "ax.plot(x, seq['Pending_2GPUJob_Num'],)\n",
    "ax.plot(x, seq['Pending_1GPUJob_Num'], )\n",
    "ax.plot(x, seq['Pending_Lessthan_8GPUJob_Num'])\n",
    "ax.legend(['Pending_Morethan_8GPUJob_Num', 'Pending_8GPUJob_Num', 'Pending_4GPUJob_Num', 'Pending_2GPUJob_Num', 'Pending_1GPUJob_Num', 'Pending_Lessthan_8GPUJob_Num'],prop = {'size':15})\n",
    "plt.title('Pending GPUJob Num')\n",
    "# plt.savefig('Pending GPUJob Num.png')"
   ]
  },
  {
   "cell_type": "code",
   "execution_count": null,
   "metadata": {},
   "outputs": [],
   "source": [
    "fig, ax = plt.subplots(figsize=(16, 9))\n",
    "x = [ciso8601.parse_datetime(d) for d in seq['Timestamp']]\n",
    "ax.plot(x, seq['Idle_Machine_8GPU'])\n",
    "ax.plot(x, seq['Idle_Machine_5_7GPU'], )\n",
    "ax.plot(x, seq['Idle_Machine_4GPU'],)\n",
    "ax.plot(x, seq['Idle_Machine_3GPU'],)\n",
    "ax.plot(x, seq['Idle_Machine_2GPU'], )\n",
    "ax.plot(x, seq['Idle_Machine_1GPU'])\n",
    "ax.legend(['Idle_Machine_8GPU', 'Idle_Machine_5_7GPU', 'Idle_Machine_4GPU', 'Idle_Machine_3GPU', 'Idle_Machine_2GPU', 'Idle_Machine_1GPU'],prop = {'size':15})\n",
    "plt.title('Idle Machine Num')\n",
    "# plt.savefig('Idle Machine Num.png')"
   ]
  },
  {
   "cell_type": "code",
   "execution_count": null,
   "metadata": {},
   "outputs": [],
   "source": []
  }
 ],
 "metadata": {
  "kernelspec": {
   "display_name": "Python 3",
   "language": "python",
   "name": "python3"
  },
  "language_info": {
   "codemirror_mode": {
    "name": "ipython",
    "version": 3
   },
   "file_extension": ".py",
   "mimetype": "text/x-python",
   "name": "python",
   "nbconvert_exporter": "python",
   "pygments_lexer": "ipython3",
   "version": "3.8.5"
  }
 },
 "nbformat": 4,
 "nbformat_minor": 4
}
