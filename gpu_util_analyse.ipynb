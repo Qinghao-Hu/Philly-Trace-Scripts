{
 "cells": [
  {
   "cell_type": "code",
   "execution_count": null,
   "metadata": {
    "scrolled": true
   },
   "outputs": [],
   "source": [
    "import pandas as pd\n",
    "import time\n",
    "\n",
    "df = pd.read_csv('cluster_gpu_util', index_col=False, error_bad_lines=False, low_memory=False)"
   ]
  },
  {
   "cell_type": "code",
   "execution_count": null,
   "metadata": {},
   "outputs": [],
   "source": [
    "# machine_df = pd.read_csv('cluster_machine_list')\n",
    "# ids = machine_df['machineId']\n",
    "\n",
    "\n",
    "# #Take 11mins\n",
    "# start = time.perf_counter()\n",
    "\n",
    "# logs = pd.concat([df[df['machineId'] == id].head(1) for id in ids])\n",
    "\n",
    "# end = time.perf_counter()\n",
    "# print(round(end - start, 2))\n",
    "\n",
    "# logs.to_csv('one_log_each_machine.csv')"
   ]
  },
  {
   "cell_type": "code",
   "execution_count": null,
   "metadata": {},
   "outputs": [],
   "source": [
    "machine_df = pd.read_csv('cluster_machine_list')\n",
    "ids = machine_df['machineId']\n",
    "gpus = []\n",
    "\n",
    "start = time.perf_counter()\n",
    "\n",
    "for id in ids:\n",
    "    gpu = df[df['machineId'] == id].dropna(axis = 1, how = 'all').shape[1] - 2\n",
    "    gpus.append(gpu)\n",
    "\n",
    "end = time.perf_counter()\n",
    "print(round(end - start, 2))"
   ]
  },
  {
   "cell_type": "code",
   "execution_count": null,
   "metadata": {},
   "outputs": [],
   "source": [
    "machinels = pd.DataFrame(data={'machineId':ids, 'number of GPUs': gpus})\n",
    "machinels.to_csv('revised_machine_list.csv')"
   ]
  },
  {
   "cell_type": "code",
   "execution_count": null,
   "metadata": {},
   "outputs": [],
   "source": []
  }
 ],
 "metadata": {
  "kernelspec": {
   "display_name": "Python 3",
   "language": "python",
   "name": "python3"
  },
  "language_info": {
   "codemirror_mode": {
    "name": "ipython",
    "version": 3
   },
   "file_extension": ".py",
   "mimetype": "text/x-python",
   "name": "python",
   "nbconvert_exporter": "python",
   "pygments_lexer": "ipython3",
   "version": "3.8.5"
  }
 },
 "nbformat": 4,
 "nbformat_minor": 4
}
